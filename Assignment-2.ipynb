{
 "cells": [
  {
   "cell_type": "markdown",
   "id": "21748554-e319-4217-82e1-e91344c8e6d6",
   "metadata": {},
   "source": [
    "# ASSIGNMENT-2"
   ]
  },
  {
   "cell_type": "markdown",
   "id": "b30aa7fa-c182-4386-accf-1683f3972117",
   "metadata": {},
   "source": [
    "# Q1. How do you comment code in Python? What are the different types of comments?"
   ]
  },
  {
   "cell_type": "markdown",
   "id": "948b6f96-9e77-414d-a970-7509b3ecc37e",
   "metadata": {},
   "source": [
    "# Ans \n",
    "\n",
    "-> For single line comment we use ' # ' in front of line , python read as a commnent.\n",
    "   Example : \n",
    "                       "
   ]
  },
  {
   "cell_type": "code",
   "execution_count": 1,
   "id": "b747306d-44a8-4ede-bfbe-7e3f1f7d6bbe",
   "metadata": {},
   "outputs": [
    {
     "name": "stdout",
     "output_type": "stream",
     "text": [
      "[32, 56, 46, 2]\n"
     ]
    }
   ],
   "source": [
    "# this code is for printing the even numbers in a list .\n",
    "\n",
    "l1=[32,56,33,46,89,2,71,11]\n",
    "l2 =[]\n",
    "for x in l1:         # here we are using loop to perform action in all elements of list.\n",
    "    if x%2==0:\n",
    "        l2.append(x) # adding all even elements in new empmty list\n",
    "print(l2)            # printing list that contains even elements "
   ]
  },
  {
   "cell_type": "markdown",
   "id": "6639ca8c-6b67-4b18-9e03-2afe70b145ff",
   "metadata": {},
   "source": [
    "-> Types of Comments\n",
    "\n",
    "    There are thre type of comments .\n",
    "    1. Single line comments : we just use ' # ' in front of line .\n",
    "    2. Multi Line comments : here in front of every line we use ' # '\n",
    "    3. python dicstrings : here any thing written under '''    '''' or \"\"\"   \"\"\" . It is only use in first          line .  "
   ]
  },
  {
   "cell_type": "markdown",
   "id": "86819c3f-e2b3-4371-adc0-954dcd033b9f",
   "metadata": {},
   "source": [
    "# Q2. What are variables in Python? How do you declare and assign values to variables?"
   ]
  },
  {
   "cell_type": "markdown",
   "id": "5df35bb8-2ff9-4063-813b-06546d47e014",
   "metadata": {},
   "source": [
    "# Ans \n",
    "\n",
    "->  Where data is represented by single value is known as Variable . There are certain rules we have to         follow like :- \n",
    "    1. start with letter or underscore . \n",
    "    2. cannot start with a number .\n",
    "    3. and they are case sensitive .\n",
    "\n",
    "-> for assigning a variable have to write name and use ' = ' to the data \n",
    "    \n",
    "    Example:\n",
    "            a = 2\n",
    "            b = 2.5\n",
    "            c = \" pwskills \" \n",
    "\n",
    "-> in python when we assign value/data to variable at that only it is declared .  \n",
    "\n",
    "-> for calling the variable we can use print or just writr variable name ."
   ]
  },
  {
   "cell_type": "markdown",
   "id": "515e3aca-743b-4496-ad81-0d3e14631fd6",
   "metadata": {},
   "source": [
    "# Q3. How do you convert one data type to another in Python?"
   ]
  },
  {
   "cell_type": "markdown",
   "id": "184a52e7-3910-421c-942b-506c2ef5c467",
   "metadata": {},
   "source": [
    "# Ans "
   ]
  },
  {
   "cell_type": "markdown",
   "id": "8a581fff-f924-4d04-8e7f-012200e6b151",
   "metadata": {},
   "source": [
    " -> suppose we have to convert int datatype to string and float datatype :\n",
    "     \n",
    "     Example \n"
   ]
  },
  {
   "cell_type": "code",
   "execution_count": 1,
   "id": "7210c281-fabb-4b6b-8907-602ddf893df1",
   "metadata": {},
   "outputs": [
    {
     "name": "stdout",
     "output_type": "stream",
     "text": [
      "2 <class 'int'>\n",
      "2 <class 'str'>\n",
      "2.0 <class 'float'>\n"
     ]
    }
   ],
   "source": [
    "a = 2\n",
    "b = str(2)\n",
    "c = float(2)\n",
    "print(a , type(a))\n",
    "print(b , type(b))\n",
    "print(c , type(c))\n",
    "\n"
   ]
  },
  {
   "cell_type": "markdown",
   "id": "1262a5c9-7625-4e7c-a4f1-b42922262806",
   "metadata": {},
   "source": [
    " -> we can also convert list datatype to tuple and set , but not in dict datatype for that we have to use       loop ."
   ]
  },
  {
   "cell_type": "code",
   "execution_count": 2,
   "id": "45270dd9-9182-424a-806b-4b61ff8382ee",
   "metadata": {},
   "outputs": [
    {
     "name": "stdout",
     "output_type": "stream",
     "text": [
      "(2, 4) <class 'tuple'>\n",
      "{2, 4} <class 'set'>\n"
     ]
    }
   ],
   "source": [
    "x = [2,4]\n",
    "y = tuple(x)\n",
    "z = set(x)\n",
    "\n",
    "print(y,type(y))\n",
    "print(z,type(z))"
   ]
  },
  {
   "cell_type": "markdown",
   "id": "f9802ab8-34ed-40dc-8f0f-cb5be5147d17",
   "metadata": {},
   "source": [
    "# Q4. How do you write and execute a Python script from the command line?"
   ]
  },
  {
   "cell_type": "markdown",
   "id": "f0e902bc-7127-4244-b462-6ad5d29aa99b",
   "metadata": {},
   "source": [
    "# Ans \n",
    "\n",
    "-> In cmd we have just write python and press enter we are ready to use python script in cmd \n",
    "    \n",
    "    Example"
   ]
  },
  {
   "cell_type": "code",
   "execution_count": null,
   "id": "0c648c66-cb8c-4d15-8149-f6f0aaea953a",
   "metadata": {},
   "outputs": [],
   "source": []
  },
  {
   "cell_type": "markdown",
   "id": "f18818cf-11ca-4bd7-8730-0d533f76d107",
   "metadata": {},
   "source": [
    "# Q5. Given a list my_list = [1, 2, 3, 4, 5], write the code to slice the list and obtain the sub-list [2, 3]. "
   ]
  },
  {
   "cell_type": "markdown",
   "id": "32281e67-7d3b-4815-a9bd-a6f778b56f4c",
   "metadata": {},
   "source": [
    "# Ans "
   ]
  },
  {
   "cell_type": "code",
   "execution_count": 3,
   "id": "0d3bfe38-af6c-43f5-96e2-95e02d0085f3",
   "metadata": {},
   "outputs": [
    {
     "data": {
      "text/plain": [
       "[2, 3]"
      ]
     },
     "execution_count": 3,
     "metadata": {},
     "output_type": "execute_result"
    }
   ],
   "source": [
    "my_list = [1,2,3,4,5]\n",
    "my_list[1:3]"
   ]
  },
  {
   "cell_type": "markdown",
   "id": "52ef7daf-7a0b-474a-8c4c-786897f3b775",
   "metadata": {},
   "source": [
    "# Q6. What is a complex number in mathematics, and how is it represented in Python?"
   ]
  },
  {
   "cell_type": "markdown",
   "id": "74426421-1bfb-4f88-872d-a2913870e0e7",
   "metadata": {},
   "source": [
    "# Ans\n",
    "\n",
    "-When we use iota(i) with any numeric it becames a complex number . In which real asnd imaginary parts are     present \n",
    "\n",
    "-In python we denote it by ' j ' \n",
    "\n",
    "    Example :\n",
    "            3 + 5j\n",
    "    "
   ]
  },
  {
   "cell_type": "code",
   "execution_count": 5,
   "id": "27a1063e-b199-4a86-af53-c8bd122c944d",
   "metadata": {},
   "outputs": [
    {
     "name": "stdout",
     "output_type": "stream",
     "text": [
      "(3+0j) <class 'complex'>\n"
     ]
    }
   ],
   "source": [
    "x = 3\n",
    "y = complex(x)\n",
    "print(y,type(y))"
   ]
  },
  {
   "cell_type": "markdown",
   "id": "69e26979-c147-4053-b5db-5d077b535d8b",
   "metadata": {},
   "source": [
    "# Q7. What is the correct way to declare a variable named age and assign the value 25 to it?"
   ]
  },
  {
   "cell_type": "markdown",
   "id": "4bc74c69-a4ef-46a8-8239-57efabc97f72",
   "metadata": {},
   "source": [
    "# Ans "
   ]
  },
  {
   "cell_type": "code",
   "execution_count": 6,
   "id": "f09dd856-ed25-49de-b38b-cd15503b2dbb",
   "metadata": {},
   "outputs": [
    {
     "data": {
      "text/plain": [
       "25"
      ]
     },
     "execution_count": 6,
     "metadata": {},
     "output_type": "execute_result"
    }
   ],
   "source": [
    "age = 25 # 25 value is assign to variable age and declaring also. \n",
    "age      # calling a variable\n"
   ]
  },
  {
   "cell_type": "markdown",
   "id": "e591821f-c8a8-49dd-a164-ee02c9b8e6bb",
   "metadata": {},
   "source": [
    "# Q8. Declare a variable named price and assign the value 9.99 to it. What data type does this variable belong to?"
   ]
  },
  {
   "cell_type": "markdown",
   "id": "52672765-7909-400f-b2c2-a9a8ac02025c",
   "metadata": {},
   "source": [
    "# Ans "
   ]
  },
  {
   "cell_type": "code",
   "execution_count": 7,
   "id": "51ac7492-e9a5-45ab-9857-3db8bbea0943",
   "metadata": {},
   "outputs": [
    {
     "name": "stdout",
     "output_type": "stream",
     "text": [
      "data type for price <class 'float'>\n"
     ]
    }
   ],
   "source": [
    "price = 9.99\n",
    "print(\"data type for price\",type(price))"
   ]
  },
  {
   "cell_type": "markdown",
   "id": "e38da9ce-16ed-47c5-93c3-4b1aebf38efc",
   "metadata": {},
   "source": [
    "# Q9. Create a variable named name and assign your full name to it as a string. How would you print the value of this variable?"
   ]
  },
  {
   "cell_type": "code",
   "execution_count": 13,
   "id": "8cb21936-9842-48b2-bebd-b09b13565bb2",
   "metadata": {},
   "outputs": [
    {
     "name": "stdout",
     "output_type": "stream",
     "text": [
      "my full name is:  Akash Tyagi \n"
     ]
    }
   ],
   "source": [
    "name = \" Akash Tyagi \"\n",
    "print(\"my full name is:\", name )"
   ]
  },
  {
   "cell_type": "markdown",
   "id": "a292d334-91db-4a96-b689-c32b9167bf2f",
   "metadata": {},
   "source": [
    "# Q10. Given the string \"Hello, World!\", extract the substring \"World\"."
   ]
  },
  {
   "cell_type": "markdown",
   "id": "9052435a-63b5-40cf-a702-9a9957f0579b",
   "metadata": {},
   "source": [
    "# Ans "
   ]
  },
  {
   "cell_type": "code",
   "execution_count": 15,
   "id": "e6d732ae-b606-49b4-a9db-cccf470fc6e5",
   "metadata": {},
   "outputs": [
    {
     "data": {
      "text/plain": [
       "'World'"
      ]
     },
     "execution_count": 15,
     "metadata": {},
     "output_type": "execute_result"
    }
   ],
   "source": [
    "s = \"Hello,World\"\n",
    "s[6:]"
   ]
  },
  {
   "cell_type": "markdown",
   "id": "fe4b2cc7-1530-4866-9e01-b43b7478e063",
   "metadata": {},
   "source": [
    "# Q11. Create a variable named \"is_student\" and assign it a boolean value indicating whether you are currently a student or not."
   ]
  },
  {
   "cell_type": "markdown",
   "id": "2bc82e19-247f-4e24-8c80-cd7df81856a4",
   "metadata": {},
   "source": [
    "# Ans"
   ]
  },
  {
   "cell_type": "code",
   "execution_count": 20,
   "id": "a581f08f-223c-4148-9f20-6735a82e503d",
   "metadata": {},
   "outputs": [
    {
     "name": "stdout",
     "output_type": "stream",
     "text": [
      "are u a student = False  and datatype is  <class 'bool'>\n"
     ]
    }
   ],
   "source": [
    "is_student = bool(0)\n",
    "print(\"are u a student =\",is_student , \" and datatype is \" , type(is_student))"
   ]
  },
  {
   "cell_type": "code",
   "execution_count": null,
   "id": "3d004744-ad91-4e12-9fb9-bb6ad61f8045",
   "metadata": {},
   "outputs": [],
   "source": []
  },
  {
   "cell_type": "code",
   "execution_count": null,
   "id": "5b784db6-a006-453a-a3b2-b2e35fb7d1e4",
   "metadata": {},
   "outputs": [],
   "source": []
  }
 ],
 "metadata": {
  "kernelspec": {
   "display_name": "Python 3 (ipykernel)",
   "language": "python",
   "name": "python3"
  },
  "language_info": {
   "codemirror_mode": {
    "name": "ipython",
    "version": 3
   },
   "file_extension": ".py",
   "mimetype": "text/x-python",
   "name": "python",
   "nbconvert_exporter": "python",
   "pygments_lexer": "ipython3",
   "version": "3.10.8"
  }
 },
 "nbformat": 4,
 "nbformat_minor": 5
}
